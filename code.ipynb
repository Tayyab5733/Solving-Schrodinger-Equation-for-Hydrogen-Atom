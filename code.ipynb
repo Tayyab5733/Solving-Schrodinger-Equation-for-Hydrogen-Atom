{
 "cells": [
  {
   "cell_type": "markdown",
   "metadata": {},
   "source": [
    "### Hydrogen Atom"
   ]
  },
  {
   "cell_type": "markdown",
   "metadata": {},
   "source": [
    "Starting from Schrodinger Equation \n",
    "$$ \\iota \\hbar \\frac{\\partial \\Psi}{\\partial t} = \\hat{H} \\Psi$$\n",
    "where the Hamiltonian Operator is given by \n",
    "$$ \\hat{H} = \\frac{p^{2}}{2m}+V = -\\frac{h^{2}}{2m}\\nabla^{2}\\Psi+V\\Psi$$\n",
    "where $\\nabla^{2}$ is Laplacian, \n",
    "$$\\nabla^{2}=\\frac{\\partial}{\\partial x^{2}}+\\frac{\\partial}{\\partial y^{2}}+\\frac{\\partial}{\\partial z^{2}}$$\n",
    "Describing the potential of the particle as a function of $r$ will be more efficient here to work with. So, It does make sense to work with Spherical coordinates. In these coordinates, Laplacian will transform as\n",
    "$$ \\nabla^{2} = \\left[\\frac{1}{r^{2}}\\frac{\\partial}{\\partial r}\\left(r^{2}\\frac{\\partial}{\\partial r}\\right)+\\frac{1}{r^{2}\\sin{\\theta}}\\frac{\\partial}{\\partial \\theta}\\left(\\sin{\\theta} \\frac{\\partial}{\\partial \\theta}\\right)+\\frac{1}{r^{2}\\sin^{2}{\\theta}}\\left(\\frac{\\partial^{2}}{\\partial \\phi^{2}}\\right)\\right]$$\n",
    "The first thing we need to do is to separate spatial and time dependent factors of the wavevector. For this, \n",
    "$$\n",
    "\\Psi = \\psi(r,\\theta,\\phi) f(t)\n",
    "$$\n",
    "Using this in Schrodinger Equation\n",
    "$$\n",
    "\\iota \\hbar \\frac{\\partial}{\\partial t}(\\psi f) = -\\frac{\\hbar^{2}}{2m}\\nabla^{2}\\left(\\psi f \\right) + V(\\psi f)\n",
    "$$\n",
    "$$\n",
    "\\psi \\iota \\hbar \\frac{\\partial}{\\partial t}(f) = -\\frac{\\hbar^{2}}{2m} f \\nabla^{2}\\left(\\psi\\right) + V(\\psi f)\n",
    "$$\n",
    "Dividing both sides by $\\psi f $, \n",
    "$$\n",
    "\\frac{\\iota \\hbar}{f}\\frac{\\partial f}{\\partial t} = - \\frac{\\hbar^{2}}{2m}\\frac{1}{\\psi} \\nabla^{2} \\psi + V\n",
    "$$\n",
    "We can see, spatial and time dependent parts are now separated and we can set both sides of this equation equals to some constant, say E. Hence, we'll get two equations, \n",
    "$$\n",
    "\\frac{\\iota \\hbar}{f}\\frac{\\partial f}{\\partial t} = E \n",
    "$$\n",
    "$$\n",
    "- \\frac{\\hbar^{2}}{2m}\\frac{1}{\\psi} \\nabla^{2} \\psi + V = E\n",
    "$$\n",
    "Remember that we are working with time independent potential i.e potential only depends on spatial components. Solving the time part, \n",
    "$$ \\frac{\\partial f}{\\partial t} = -\\frac{\\iota E }{\\hbar} f\n",
    "$$\n",
    "whose solution will be, \n",
    "$$\n",
    "f(t) = e^{\\frac{-\\iota E t }{\\hbar}}\n",
    "$$\n",
    "On the other hand, the spatial component can furthur be separated as\n",
    "$$\n",
    "\\psi (r,\\theta,\\phi) = R(r) Y(\\theta,\\phi)\n",
    "$$\n",
    "substituting it in Laplacian that we have defined earlier, \n",
    "\n",
    "$$\n",
    " \\nabla^{2} RY = \\left[\\frac{Y}{r^{2}}\\frac{\\partial R}{\\partial r}\\left(r^{2}\\frac{\\partial}{\\partial r}\\right)+\\frac{R}{r^{2}\\sin{\\theta}}\\frac{\\partial}{\\partial \\theta}\\left(\\sin{\\theta} \\frac{\\partial Y}{\\partial \\theta}\\right)+\\frac{R}{r^{2}\\sin^{2}{\\theta}}\\left(\\frac{\\partial^{2} Y}{\\partial \\phi^{2}}\\right)\\right]\n",
    "$$\n",
    "Substituting it in Schrodinger Equation, we'll get\n",
    "$$\n",
    "-\\frac{\\hbar^{2}}{2m}\\left[\\frac{Y}{r^{2}}\\frac{\\partial R}{\\partial r}\\left(r^{2}\\frac{\\partial}{\\partial r}\\right)+\\frac{R}{r^{2}\\sin{\\theta}}\\frac{\\partial}{\\partial \\theta}\\left(\\sin{\\theta} \\frac{\\partial Y}{\\partial \\theta}\\right)+\\frac{R}{r^{2}\\sin^{2}{\\theta}}\\left(\\frac{\\partial^{2} Y}{\\partial \\phi^{2}}\\right)\\right] + VRY = ERY\n",
    "$$\n",
    "Multiplying both sides of the equation by $-\\frac{2mr^{2}}{\\hbar^{2}RY}$, \n",
    "$$\n",
    "\\underbrace{\\left[\\frac{1}{R}\\frac{\\partial}{\\partial r}\\left( r^{2} \\frac{\\partial R}{\\partial r}\\right)-\\frac{2mr^{2}}{\\hbar^e{2}}\\left(V-E\\right)\\right]}_{Depends\\,on\\,R(r)} + \\underbrace{\\left[\\frac{1}{Y}\\left(\\frac{1}{\\sin{\\theta}}\\frac{\\partial}{\\partial \\theta}\\left(\\sin{\\theta} \\frac{\\partial Y}{\\partial \\theta}\\right)+\\frac{1}{\\sin^{2}{\\theta}}\\frac{\\partial^{2}Y}{\\partial^{2}\\phi}\\right)\\right]}_{Depends\\,on\\,Y(\\theta,\\phi)} = 0 \n",
    "$$\n",
    "Setting both of these terms equal to some constant, say $l(l+1)$\n",
    "$$\n",
    "\\left[\\frac{1}{R}\\frac{\\partial}{\\partial r}\\left( r^{2} \\frac{\\partial R}{\\partial r}\\right)-\\frac{2mr^{2}}{\\hbar^e{2}}\\left(V-E\\right)\\right] = l(l+1)\n",
    "$$\n",
    "$$\n",
    "\\left[\\frac{1}{Y}\\left(\\frac{1}{\\sin{\\theta}}\\frac{\\partial}{\\partial \\theta}\\left(\\sin{\\theta} \\frac{\\partial Y}{\\partial \\theta}\\right)+\\frac{1}{\\sin^{2}{\\theta}}\\frac{\\partial^{2}Y}{\\partial^{2}\\phi}\\right)\\right]= - l(l+1)\n",
    "$$\n"
   ]
  },
  {
   "cell_type": "markdown",
   "metadata": {},
   "source": [
    "### Radial Part"
   ]
  },
  {
   "cell_type": "markdown",
   "metadata": {},
   "source": [
    "Since we are interested in Radial part only, lets move forward with first equation. It can be written as\n",
    "$$\n",
    "\\left[\\frac{\\partial}{\\partial r}\\left( r^{2} \\frac{\\partial R}{\\partial r}\\right)-\\frac{2mr^{2} R }{\\hbar^e{2}}\\left(V-E\\right)\\right] = R l(l+1)\n",
    "$$\n",
    "Applying product rule in the first term, \n",
    "$$\n",
    "\\left[\\left( 2R \\frac{\\partial R}{\\partial r} + r^{2} \\frac{\\partial^{2}R}{\\partial r^{2}}\\right)-\\frac{2mr^{2} R }{\\hbar^e{2}}\\left(V-E\\right)\\right] = R l(l+1)\n",
    "$$\n",
    "Solving this equation for $\\frac{\\partial^{2} R }{\\partial r^{2}}$, \n",
    "$$\n",
    "\\frac{\\partial^{2} R }{\\partial r^{2}} = \\frac{2mR}{\\hbar^{2}}\\left(V-E\\right) - \\frac{2}{r} \\frac{\\partial R}{\\partial r} + \\frac{R l(l+1)}{r^{2}}\n",
    "$$"
   ]
  },
  {
   "cell_type": "markdown",
   "metadata": {},
   "source": [
    "### Assumptions"
   ]
  },
  {
   "cell_type": "markdown",
   "metadata": {},
   "source": [
    "- Assuming the proton in the Hydrogen atom is at rest and separated from electron by distance $r$. \n",
    "- The interation picture give rise the Columb Potential \n",
    "    $$\n",
    "    V = \\frac{-k e^{2}}{r}\n",
    "    $$\n",
    "    Using these assumption in the previous equation\n",
    "    $$\n",
    "    \\frac{\\partial^{2} R }{\\partial r^{2}} = - \\frac{2mR}{\\hbar^{2}}\\left(\\frac{k e^{2}}{r}+E\\right) - \\frac{2}{r} \\frac{\\partial R}{\\partial r} + \\frac{R l(l+1)}{r^{2}}\n",
    "    $$\n",
    "    or \n",
    "    $$\n",
    "    R^{''} = - \\frac{2mR}{\\hbar^{2}}\\left(\\frac{k e^{2}}{r}+E\\right) - \\frac{2}{r} R^{'} + \\frac{R l(l+1)}{r^{2}}\n",
    "    $$\n"
   ]
  },
  {
   "cell_type": "markdown",
   "metadata": {},
   "source": [
    "### Shooting Method"
   ]
  },
  {
   "cell_type": "markdown",
   "metadata": {},
   "source": [
    "We'll use shooting method to solve this differnetial equation, What we'll do is to change the values for energy continously untill our solution meets the boundary conditions. Lets see how it works. Consider 1D time-independent Schrodinger equation for free partical,\n",
    "$$\n",
    "-\\frac{\\hbar^{2}}{2m} \\frac{d^{2} \\psi}{dx^{2}} = E\\psi\n",
    "$$ \n",
    "or \n",
    "$$\n",
    "\\psi^{''} = -\\frac{2mE}{\\hbar^{2}} \\psi\n",
    "$$\n",
    "with boundary conditions $\\psi(0) = \\psi(1) = 0$. Assume the position is divided in large number of small patches and in each patch $\\psi^{''}$ is constant. In this way, we can easily establish Euler method here, \n",
    "$$\n",
    "\\psi^{''} = \\frac{\\Delta \\psi^{'}}{\\Delta x} = \\frac{\\psi_{2}^{'}-\\psi_{1}^{'}}{\\Delta x} \\implies \\psi_{2}^{'} = \\psi_{1}^{'} + \\psi^{''}\\Delta x\n",
    "$$\n",
    "Now assume $\\psi^{'} = constant$, so\n",
    "$$\n",
    "\\psi_{2} = \\psi_{1} + \\psi_{2}^{'} \\Delta x\n",
    "$$\n",
    "and so on.In each step we'll choose a value for energy and solve the equation to chek whether it follows boundary conditions or not. If boundary conditions are not satisfy, it will start again and choose some different value for energy.\\\\\n",
    "Now, lets get back to our equation, \n",
    "$$\n",
    "    R^{''} = - \\frac{2mR}{\\hbar^{2}}\\left(\\frac{k e^{2}}{r}+E\\right) - \\frac{2}{r} R^{'} + \\frac{R l(l+1)}{r^{2}}\n",
    "$$\n",
    "- Start from R_{1} = 1\n",
    "- Start with E = -15 (Close to -13.6, the actual value)\n",
    "- Boundary condition $R(\\infty)=0$, but we will not run it till $\\infty$, so lets choose $R(2) = 0$.\n",
    "- Start with $R^{'}$ = 1 "
   ]
  },
  {
   "cell_type": "markdown",
   "metadata": {},
   "source": [
    "### Units"
   ]
  },
  {
   "cell_type": "markdown",
   "metadata": {},
   "source": [
    "- $\\hbar$ = 197 eV*nm\n",
    "- r = 0.001 nm (can't choose $r=0$ as $r$ appear in denominator)\n",
    "- ke^{2} = 1.44\n",
    "- m = 511000 mc^{2}"
   ]
  },
  {
   "cell_type": "markdown",
   "metadata": {},
   "source": [
    "### Code"
   ]
  },
  {
   "cell_type": "code",
   "execution_count": null,
   "metadata": {},
   "outputs": [],
   "source": [
    "import vpython\n",
    "from vpython import graph, gcurve, color\n",
    "\n",
    "g1 = graph(xtitle=\"r\",ytitle=\"psi\",width=500, height=250, ymax=1, ymin=-1)\n",
    "f1 = gcurve(color=color.blue)\n",
    "\n",
    "hbar = 197 #ev-nm - this is actually hbar-c\n",
    "r = 0.001 #nm starting value\n",
    "ke2 = 1.44 #ev-nm\n",
    "m = 511000 #mc^2 mass of electron\n",
    "#E = -13.61175\n",
    "E = -13.6\n",
    "l = 0\n",
    "R = 1\n",
    "dR = 1\n",
    "dr = 0.00001\n",
    "\n",
    "while r<2:\n",
    "  ddR = -2*dR/r - 2*m/hbar**2*(E+ke2/r)*R+l*(l+1)/r**2*R\n",
    "  dR = dR + ddR*dr\n",
    "  R = R + dR*dr\n",
    "  r = r + dr\n",
    "  f1.plot(r,R)\n",
    "\n",
    "print(\"R final = \",R)\n",
    "print(\"E = \",E,\" eV\")"
   ]
  }
 ],
 "metadata": {
  "kernelspec": {
   "display_name": "env",
   "language": "python",
   "name": "python3"
  },
  "language_info": {
   "name": "python",
   "version": "3.12.8"
  }
 },
 "nbformat": 4,
 "nbformat_minor": 2
}
